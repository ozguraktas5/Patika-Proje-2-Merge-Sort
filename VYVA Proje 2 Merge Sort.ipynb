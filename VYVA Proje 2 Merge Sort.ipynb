{
 "cells": [
  {
   "cell_type": "code",
   "execution_count": null,
   "id": "04b0c3dc",
   "metadata": {},
   "outputs": [],
   "source": [
    "[16,21,11,8,12,22] -----> Merge Sort"
   ]
  },
  {
   "cell_type": "markdown",
   "id": "90bc20ae",
   "metadata": {},
   "source": [
    "1- Yukarıdaki dizinin sort türüne göre aşamalarını yazınız."
   ]
  },
  {
   "cell_type": "code",
   "execution_count": null,
   "id": "d58626d8",
   "metadata": {},
   "outputs": [],
   "source": [
    "                     [16,21,11,8,12,22]\n",
    "    \n",
    "      [16,21,11]                            [8,12,22]\n",
    "\n",
    "    [16]  [21,11]                         [8]  [12,22]\n",
    "        \n",
    "    [16]  [21]  [11]                     [8]  [12]  [22]\n",
    "\n",
    "     [16]  [11,21]                         [8]  [12,22]\n",
    "        \n",
    "        [11,16,21]                             [8,12,22]\n",
    "    \n",
    "                      [8,11,12,16,21,22]"
   ]
  },
  {
   "cell_type": "markdown",
   "id": "9a9572ac",
   "metadata": {},
   "source": [
    "2- Big-O gösterimini yazınız."
   ]
  },
  {
   "cell_type": "code",
   "execution_count": null,
   "id": "3b0ad609",
   "metadata": {},
   "outputs": [],
   "source": [
    "Average Case: O(nlogn)\n",
    "Worst Case: O(nlogn)\n",
    "Best Case: O(nlogn)"
   ]
  }
 ],
 "metadata": {
  "kernelspec": {
   "display_name": "Python 3 (ipykernel)",
   "language": "python",
   "name": "python3"
  },
  "language_info": {
   "codemirror_mode": {
    "name": "ipython",
    "version": 3
   },
   "file_extension": ".py",
   "mimetype": "text/x-python",
   "name": "python",
   "nbconvert_exporter": "python",
   "pygments_lexer": "ipython3",
   "version": "3.9.12"
  }
 },
 "nbformat": 4,
 "nbformat_minor": 5
}
